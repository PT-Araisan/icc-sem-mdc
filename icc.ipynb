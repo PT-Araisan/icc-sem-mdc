{
  "cells": [
    {
      "cell_type": "code",
      "execution_count": null,
      "metadata": {
        "id": "rGPHPcntGyCX"
      },
      "outputs": [],
      "source": [
        "!pip install pingouin\n",
        "\n",
        "import pandas as pd\n",
        "import pingouin as pg\n",
        "import numpy as np\n",
        "\n",
        "def calculate_icc(csv_file):\n",
        "    data = pd.read_csv(csv_file)\n",
        "    data_long = data.melt(var_name='raters', value_name='ratings', ignore_index=False)\n",
        "    data_long.reset_index(inplace=True)\n",
        "    data_long.rename(columns={'index': 'targets'}, inplace=True)\n",
        "    icc_results = pg.intraclass_corr(data=data_long, targets='targets', raters='raters', ratings='ratings')\n",
        "    return icc_results, data_long\n",
        "\n",
        "def calculate_sems_and_mdcs(icc_value, data_long, suffix):\n",
        "    s = np.std(data_long['ratings'], ddof=1)\n",
        "    sem = s * np.sqrt(1 - icc_value)\n",
        "    ratings_diff = data_long.groupby('targets')['ratings'].diff().dropna()\n",
        "    sd_diff = np.std(ratings_diff, ddof=1)\n",
        "    sem_diff = sd_diff / np.sqrt(2)\n",
        "    \n",
        "    mdc95 = sem * 1.96 * np.sqrt(2)\n",
        "    mdc95_diff = sem_diff * 1.96 * np.sqrt(2)\n",
        "    \n",
        "    print(f\"Standard Deviation (s): {s:.4f}\")\n",
        "    print(f\"SEM{suffix} (from ICC): {sem:.4f}\")\n",
        "    print(f\"SEM (using SD of mean differences for ICC): {sem_diff:.4f}\")\n",
        "    print(f\"MDC95 (from ICC): {mdc95:.4f}\")\n",
        "    print(f\"MDC95 (using SD of mean differences for ICC): {mdc95_diff:.4f}\")\n",
        "\n",
        "def main_icc(csv_file):\n",
        "    try:\n",
        "        icc_results, data_long = calculate_icc(csv_file)\n",
        "    except FileNotFoundError:\n",
        "        print(f\"Error: File '{csv_file}' not found.\")\n",
        "        return\n",
        "    except Exception as e:\n",
        "        print(f\"An error occurred: {e}\")\n",
        "        return\n",
        "\n",
        "    for icc_type in ['ICC1', 'ICC2', 'ICC3']:\n",
        "        icc_row = icc_results[icc_results['Type'] == icc_type]\n",
        "        if not icc_row.empty:\n",
        "            icc_value = icc_row['ICC'].values[0]\n",
        "            icc_pval = icc_row['pval'].values[0]\n",
        "            icc_ci95 = icc_row['CI95%'].values[0]\n",
        "\n",
        "            print(f\"\\n{icc_type} Value: {icc_value:.4f}\")\n",
        "            print(f\"{icc_type} p-value: {icc_pval:.2e}\")\n",
        "            print(f\"{icc_type} 95% Confidence Interval (CI95%): {icc_ci95}\")\n",
        "\n",
        "            calculate_sems_and_mdcs(icc_value, data_long, icc_type[-1])\n",
        "        else:\n",
        "            print(f\"{icc_type} is not found in the results.\")\n",
        "\n",
        "# 使用例\n",
        "main_icc('deta_x.csv')\n",
        "\n"
      ]
    }
  ],
  "metadata": {
    "colab": {
      "provenance": []
    },
    "kernelspec": {
      "display_name": "Python 3",
      "name": "python3"
    },
    "language_info": {
      "name": "python"
    }
  },
  "nbformat": 4,
  "nbformat_minor": 0
}
