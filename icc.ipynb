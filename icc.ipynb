{
  "cells": [
    {
      "cell_type": "code",
      "execution_count": null,
      "metadata": {
        "id": "rGPHPcntGyCX"
      },
      "outputs": [],
      "source": [
        "!pip install pingouin\n",
        "\n",
        "import pandas as pd\n",
        "import pingouin as pg\n",
        "import numpy as np\n",
        "\n",
        "def calculate_icc(csv_file):\n",
        "    data = pd.read_csv(csv_file)\n",
        "    return pg.intraclass_corr(data=data, targets='targets', raters='raters', ratings='ratings'), data\n",
        "\n",
        "def calculate_sems_and_mdcs(icc_value, data, suffix):\n",
        "    s = np.std(data['ratings'], ddof=1)\n",
        "    sem = s * np.sqrt(1 - icc_value)\n",
        "    ratings_diff = data.groupby('targets')['ratings'].diff().dropna()\n",
        "    sd_diff = np.std(ratings_diff, ddof=1)\n",
        "    sem_diff = sd_diff / np.sqrt(2)\n",
        "\n",
        "    mdc95 = sem * 1.96 * np.sqrt(2)\n",
        "    mdc95_diff = sem_diff * 1.96 * np.sqrt(2)\n",
        "\n",
        "    print(f\"SEM{suffix} (using ICC): {sem:.4f}\")\n",
        "    print(f\"SEM (using SD of diffs): {sem_diff:.4f}\")\n",
        "    print(f\"MDC95 (using ICC): {mdc95:.4f}\")\n",
        "    print(f\"MDC95 (using SD of diffs): {mdc95_diff:.4f}\")\n",
        "\n",
        "def main_icc(csv_file):\n",
        "    icc_results, data = calculate_icc(csv_file)\n",
        "\n",
        "    for icc_type in ['ICC1', 'ICC2', 'ICC3']:\n",
        "        icc_row = icc_results[icc_results['Type'] == icc_type]\n",
        "        if not icc_row.empty:\n",
        "            icc_value = icc_row['ICC'].values[0]\n",
        "            print(f\"\\n{icc_type} Value: {icc_value:.4f}\")\n",
        "            calculate_sems_and_mdcs(icc_value, data, icc_type[-1])\n",
        "\n",
        "# 使用例\n",
        "main_icc('data_2_2.csv')\n"
      ]
    }
  ],
  "metadata": {
    "colab": {
      "provenance": []
    },
    "kernelspec": {
      "display_name": "Python 3",
      "name": "python3"
    },
    "language_info": {
      "name": "python"
    }
  },
  "nbformat": 4,
  "nbformat_minor": 0
}
