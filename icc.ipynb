{
  "nbformat": 4,
  "nbformat_minor": 0,
  "metadata": {
    "colab": {
      "provenance": []
    },
    "kernelspec": {
      "name": "python3",
      "display_name": "Python 3"
    },
    "language_info": {
      "name": "python"
    }
  },
  "cells": [
    {
      "cell_type": "code",
      "source": [
        "!pip install pingouin\n",
        "\n",
        "import pandas as pd\n",
        "import pingouin as pg\n",
        "\n",
        "def calculate_icc(csv_file):\n",
        "    data = pd.read_csv(csv_file)\n",
        "    data_long = data.melt(var_name='raters', value_name='ratings', ignore_index=False)\n",
        "    data_long.reset_index(inplace=True)\n",
        "    data_long.rename(columns={'index': 'targets'}, inplace=True)\n",
        "    icc_results = pg.intraclass_corr(data=data_long, targets='targets', raters='raters', ratings='ratings')\n",
        "    return icc_results\n",
        "\n",
        "def main_icc(csv_file):\n",
        "    icc_results = calculate_icc(csv_file)\n",
        "    print(icc_results.set_index('Type'))\n",
        "\n",
        "# 使用例\n",
        "main_icc('deta.csv')\n"
      ],
      "metadata": {
        "id": "rGPHPcntGyCX"
      },
      "execution_count": null,
      "outputs": []
    }
  ]
}