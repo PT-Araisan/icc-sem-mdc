{
  "cells": [
    {
      "cell_type": "code",
      "execution_count": null,
      "metadata": {
        "id": "rGPHPcntGyCX"
      },
      "outputs": [],
      "source": [
        "!pip install pingouin\n",
        "\n",
        "import pandas as pd\n",
        "import pingouin as pg\n",
        "import numpy as np\n",
        "\n",
        "def calculate_icc(file_path):\n",
        "    data = pd.read_csv(file_path)\n",
        "    return pg.intraclass_corr(data=data, targets='targets', raters='raters', ratings='ratings'), data\n",
        "\n",
        "def calculate_sems_and_mdcs(icc_value, data, suffix):\n",
        "    s = np.std(data['ratings'], ddof=1)\n",
        "    sem = s * np.sqrt(1 - icc_value)\n",
        "    ratings_diff = data.groupby('targets')['ratings'].diff().dropna()\n",
        "    sd_diff = np.std(ratings_diff, ddof=1)\n",
        "    sem_diff = sd_diff / np.sqrt(2)\n",
        "\n",
        "    mdc95 = sem * 1.96 * np.sqrt(2)\n",
        "    mdc95_diff = sem_diff * 1.96 * np.sqrt(2)\n",
        "\n",
        "    print(f\"SEM (using ICC): {sem:.4f}\")\n",
        "    print(f\"SEM (using SD Diff): {sem_diff:.4f}\")\n",
        "    print(f\"MDC95 (using ICC): {mdc95:.4f}\")\n",
        "    print(f\"MDC95 (using SD Diff): {mdc95_diff:.4f}\")\n",
        "\n",
        "def main_icc(file_path):\n",
        "    icc_results, data = calculate_icc(file_path)\n",
        "\n",
        "    for icc_type in ['ICC1', 'ICC2', 'ICC3']:\n",
        "        icc_row = icc_results[icc_results['Type'] == icc_type]\n",
        "        if not icc_row.empty:\n",
        "            icc_value = icc_row['ICC'].values[0]\n",
        "            p_value = icc_row['pval'].values[0]\n",
        "            ci95 = icc_row['CI95%'].values[0]\n",
        "\n",
        "            print(f\"\\n========= Results for {icc_type} =========\")  \n",
        "            print(f\"{icc_type}: {icc_value:.4f}\")\n",
        "            print(f\"{icc_type}のp値: {p_value:.4e}\")  \n",
        "            print(f\"{icc_type}の95%信頼区間: {ci95}\")\n",
        "\n",
        "            calculate_sems_and_mdcs(icc_value, data, icc_type[-1])\n",
        "\n",
        "# 以下の「hoge.csv」の場所にて、CSVファイルの名前を書き換えてください。\n",
        "main_icc('hoge.csv')\n"
      ]
    }
  ],
  "metadata": {
    "colab": {
      "provenance": []
    },
    "kernelspec": {
      "display_name": "Python 3",
      "name": "python3"
    },
    "language_info": {
      "name": "python"
    }
  },
  "nbformat": 4,
  "nbformat_minor": 0
}
